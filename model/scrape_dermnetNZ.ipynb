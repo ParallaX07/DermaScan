{
  "cells": [
    {
      "cell_type": "markdown",
      "metadata": {
        "id": "YYHILl27j721"
      },
      "source": [
        "Images scraped using selenium from [DermNet NZ Image Library](https://dermnetnz.org/image-library) and [ISIC 2019 Challenge](https://challenge.isic-archive.com/data/#2019)"
      ]
    },
    {
      "cell_type": "code",
      "execution_count": null,
      "metadata": {
        "id": "Y_eJE7xN4ZBB"
      },
      "outputs": [],
      "source": [
        "# install required libraries\n",
        "!pip install selenium\n",
        "!pip install webdriver_manager"
      ]
    },
    {
      "cell_type": "markdown",
      "metadata": {
        "id": "b67kW0cihn1F"
      },
      "source": [
        "**import required libraries**"
      ]
    },
    {
      "cell_type": "code",
      "execution_count": null,
      "metadata": {
        "id": "EOh6sB_Nlwba"
      },
      "outputs": [],
      "source": [
        "# import required libraries\n",
        "import selenium\n",
        "from selenium import webdriver\n",
        "from selenium.webdriver.chrome.service import Service\n",
        "from webdriver_manager.chrome import ChromeDriverManager\n",
        "from selenium.webdriver.support.ui import WebDriverWait\n",
        "import pandas as pd\n",
        "import re\n",
        "import time\n",
        "from IPython.core.display import HTML\n",
        "import webbrowser\n",
        "import requests as rq\n",
        "import os\n",
        "import pathlib\n",
        "import pandas as pd"
      ]
    },
    {
      "cell_type": "markdown",
      "metadata": {
        "id": "ViYdImV24npi"
      },
      "source": [
        "**Scraping Dermnet website**\n"
      ]
    },
    {
      "cell_type": "code",
      "execution_count": null,
      "metadata": {
        "id": "vWwDtCwA4pm6",
        "outputId": "06f6be6f-033f-43f4-b6c1-dcc27e35de39"
      },
      "outputs": [
        {
          "name": "stderr",
          "output_type": "stream",
          "text": [
            "[WDM] - Downloading: 100%|██████████| 6.80M/6.80M [00:02<00:00, 3.24MB/s]\n"
          ]
        }
      ],
      "source": [
        "# chrome driver for dermnetnz\n",
        "driver = webdriver.Chrome(service=Service(ChromeDriverManager().install()))\n",
        "url = \"https://dermnetnz.org/image-library\"\n",
        "driver.get(url)\n",
        "driver.maximize_window()"
      ]
    },
    {
      "cell_type": "code",
      "execution_count": null,
      "metadata": {
        "id": "ux14Jruj5Clq",
        "outputId": "b0fea53c-a612-423c-dc2b-713c55c39966"
      },
      "outputs": [
        {
          "name": "stdout",
          "output_type": "stream",
          "text": [
            "The first 10 skin condition names: \n",
            " ['Acne affecting the back images', 'Acne affecting the face images', 'Acne and other follicular disorder images', 'Acquired dermal macular hyperpigmentation images', 'Acral lentiginous melanoma images', 'Actinic keratosis affecting the face images', 'Actinic keratosis affecting the hand images', 'Actinic keratosis affecting the legs and feet images', 'Actinic keratosis affecting the scalp images', 'Actinic keratosis dermoscopy images']\n",
            "\n",
            "The first 10 links to skin condition image links:\n",
            "['https://dermnetnz.org/topics/acne-affecting-the-back-images/?stage=Live', 'https://dermnetnz.org/topics/acne-face-images/?stage=Live', 'https://dermnetnz.org/image-catalogue/acne-and-other-follicular-disorder-images/?stage=Live', 'https://dermnetnz.org/topics/acquired-dermal-macular-hyperpigmentation-images/?stage=Live', 'https://dermnetnz.org/topics/acral-lentiginous-melanoma-images/?stage=Live', 'https://dermnetnz.org/topics/actinic-keratosis-face-images/?stage=Live', 'https://dermnetnz.org/topics/actinic-keratosis-affecting-the-hand-images/?stage=Live', 'https://dermnetnz.org/topics/actinic-keratosis-leg-and-foot-images/?stage=Live', 'https://dermnetnz.org/topics/actinic-keratosis-scalp-images/?stage=Live', 'https://dermnetnz.org/topics/actinic-keratosis-dermoscopy-images/?stage=Live']\n"
          ]
        }
      ],
      "source": [
        "# Finding all the skin_disorders listed on the main page\n",
        "skin_disorder_tag_main_page = driver.find_elements(\"xpath\", '//a[@class=\"imageList__group__item\"]')\n",
        "\n",
        "# For loop to extract the skin disorder names and the link to the skin_disorders\n",
        "disease_label = []\n",
        "link_list= []\n",
        "for tag in skin_disorder_tag_main_page:\n",
        "    disease_label.append(tag.text)\n",
        "    link_list.append(tag.get_attribute(\"href\"))\n",
        "\n",
        "# Previewing the lists created:\n",
        "print(f'The first 10 skin condition names: \\n {disease_label[:10]}\\n')\n",
        "print(f'The first 10 links to skin condition image links:\\n{link_list[:10]}')"
      ]
    },
    {
      "cell_type": "code",
      "execution_count": null,
      "metadata": {
        "id": "lDXixgoY5LZb"
      },
      "outputs": [],
      "source": [
        "# initialize the webdriver\n",
        "driver = webdriver.Chrome(service=Service(ChromeDriverManager().install()))\n",
        "\n",
        "# dataframe for disease, URL\n",
        "dfs = []\n",
        "for link, disease_label in zip(link_list, disorder_names):\n",
        "    image_disease = []\n",
        "\n",
        "    try:\n",
        "        # navigate to the link\n",
        "        driver.get(link)\n",
        "\n",
        "        # maximize the window to ensure all elements are visible\n",
        "        driver.maximize_window()\n",
        "\n",
        "        # find all the elements on the page with the class \"imageLinkBlock__item__image\"\n",
        "        skin_image_disorder = driver.find_elements(\"xpath\", '//div[@class=\"imageLinkBlock__item__image\"]')\n",
        "\n",
        "        # loop through each element and find all the images within it\n",
        "        for image in skin_image_disorder:\n",
        "            list_ = image.find_elements(\"tag name\", \"img\")\n",
        "            for lists in list_:\n",
        "                # add each image URL to the image_disease list\n",
        "                image_disease.append(lists.get_attribute(\"src\"))\n",
        "\n",
        "        # create a list of dictionaries, where each dictionary represents a row in the DataFrame\n",
        "        # each dictionary contains an image URL and the disease name\n",
        "        rows = [{'skin_disorder_name': disease_label, 'images': url} for url in image_disease]\n",
        "\n",
        "        df = pd.DataFrame(rows, columns=['skin_disorder_name', 'images'])\n",
        "        dfs.append(df)\n",
        "\n",
        "    # error case\n",
        "    except Exception as e:\n",
        "        print(f\"Error occurred for {disease_label}: {str(e)}\")\n",
        "        continue\n",
        "\n",
        "# concatenate and text normalization\n",
        "result_df = pd.concat(dfs)\n",
        "result_df['skin_disorder_name'] = result_df['skin_disorder_name'].map(lambda x: x.lower())\n",
        "\n",
        "# save the result dataframe to a CSV file named \"data.csv\"\n",
        "result_df.to_csv('dermnetnz.csv', index=False)"
      ]
    },
    {
      "cell_type": "code",
      "execution_count": null,
      "metadata": {
        "id": "eIHxpf9D5NzQ",
        "outputId": "f255df2b-8438-4eb2-d7ae-541d736ab71d"
      },
      "outputs": [
        {
          "data": {
            "text/html": [
              "<div>\n",
              "<style scoped>\n",
              "    .dataframe tbody tr th:only-of-type {\n",
              "        vertical-align: middle;\n",
              "    }\n",
              "\n",
              "    .dataframe tbody tr th {\n",
              "        vertical-align: top;\n",
              "    }\n",
              "\n",
              "    .dataframe thead th {\n",
              "        text-align: right;\n",
              "    }\n",
              "</style>\n",
              "<table border=\"1\" class=\"dataframe\">\n",
              "  <thead>\n",
              "    <tr style=\"text-align: right;\">\n",
              "      <th></th>\n",
              "      <th>skin_disorder_name</th>\n",
              "      <th>images</th>\n",
              "    </tr>\n",
              "  </thead>\n",
              "  <tbody>\n",
              "    <tr>\n",
              "      <th>0</th>\n",
              "      <td>acne affecting the back images</td>\n",
              "      <td>https://dermnetnz.org/assets/Uploads/acne/acne...</td>\n",
              "    </tr>\n",
              "    <tr>\n",
              "      <th>1</th>\n",
              "      <td>acne affecting the back images</td>\n",
              "      <td>https://dermnetnz.org/assets/Uploads/acne/acne...</td>\n",
              "    </tr>\n",
              "    <tr>\n",
              "      <th>2</th>\n",
              "      <td>acne affecting the back images</td>\n",
              "      <td>https://dermnetnz.org/assets/Uploads/acne/acne...</td>\n",
              "    </tr>\n",
              "  </tbody>\n",
              "</table>\n",
              "</div>"
            ],
            "text/plain": [
              "               skin_disorder_name  \\\n",
              "0  acne affecting the back images   \n",
              "1  acne affecting the back images   \n",
              "2  acne affecting the back images   \n",
              "\n",
              "                                              images  \n",
              "0  https://dermnetnz.org/assets/Uploads/acne/acne...  \n",
              "1  https://dermnetnz.org/assets/Uploads/acne/acne...  \n",
              "2  https://dermnetnz.org/assets/Uploads/acne/acne...  "
            ]
          },
          "execution_count": 8,
          "metadata": {},
          "output_type": "execute_result"
        }
      ],
      "source": [
        "# DataFrame with all the 294 images:\n",
        "image_df = pd.read_csv('dermnetnz.csv')\n",
        "\n",
        "# first 5 samples\n",
        "image_df.head(5)"
      ]
    },
    {
      "cell_type": "code",
      "execution_count": null,
      "metadata": {
        "id": "Aju2bB1j5WGQ",
        "outputId": "df759dd5-f0cd-45ee-f0b8-b971b839f5ac"
      },
      "outputs": [
        {
          "name": "stdout",
          "output_type": "stream",
          "text": [
            "Successfully downloaded: acne affecting the back images0.jpg\n",
            "Successfully downloaded: acne affecting the back images1.jpg\n",
            "Successfully downloaded: acne affecting the back images2.jpg\n",
            "Successfully downloaded: acne affecting the back images3.jpg\n",
            "Successfully downloaded: acne affecting the back images4.jpg\n",
            "Successfully downloaded: acne affecting the back images5.jpg\n",
            "Successfully downloaded: acne affecting the back images6.jpg\n",
            "Successfully downloaded: acne affecting the back images7.jpg\n",
            "Successfully downloaded: acne affecting the back images8.jpg\n",
            "Successfully downloaded: acne affecting the back images9.jpg\n",
            "Successfully downloaded: acne affecting the back images10.jpg\n",
            "Successfully downloaded: acne affecting the back images11.jpg\n",
            "Successfully downloaded: acne affecting the back images12.jpg\n",
            "Successfully downloaded: acne affecting the back images13.jpg\n",
            "Successfully downloaded: acne affecting the back images14.jpg\n",
            "Successfully downloaded: acne affecting the back images15.jpg\n",
            "Successfully downloaded: acne affecting the back images16.jpg\n",
            "Successfully downloaded: acne affecting the back images17.jpg\n",
            "Successfully downloaded: acne affecting the back images18.jpg\n",
            "Successfully downloaded: acne affecting the back images19.jpg\n",
            "Successfully downloaded: acne affecting the back images20.jpg\n",
            "Successfully downloaded: acne affecting the back images21.jpg\n",
            "Successfully downloaded: acne affecting the back images22.jpg\n",
            "Successfully downloaded: acne affecting the back images23.jpg\n",
            "Successfully downloaded: acne affecting the back images24.jpg\n",
            "Successfully downloaded: acne affecting the back images25.jpg\n",
            "Successfully downloaded: acne affecting the back images26.jpg\n",
            "Successfully downloaded: acne affecting the back images27.jpg\n",
            "Successfully downloaded: acne affecting the back images28.jpg\n",
            "Successfully downloaded: acne affecting the back images29.jpg\n",
            "Successfully downloaded: acne affecting the back images30.jpg\n",
            "Successfully downloaded: acne affecting the back images31.jpg\n",
            "Successfully downloaded: acne affecting the back images32.jpg\n",
            "Successfully downloaded: acne affecting the back images33.jpg\n",
            "Successfully downloaded: acne affecting the back images34.jpg\n",
            "Successfully downloaded: acne affecting the back images35.jpg\n",
            "Successfully downloaded: acne affecting the back images36.jpg\n",
            "Successfully downloaded: acne affecting the back images37.jpg\n",
            "Successfully downloaded: acne affecting the back images38.jpg\n",
            "Successfully downloaded: acne affecting the back images39.jpg\n",
            "Successfully downloaded: acne affecting the back images40.jpg\n",
            "Successfully downloaded: acne and other follicular disorder images41.jpg\n",
            "Successfully downloaded: acne and other follicular disorder images42.jpg\n",
            "Successfully downloaded: acne and other follicular disorder images43.jpg\n",
            "Successfully downloaded: acne and other follicular disorder images44.jpg\n",
            "Successfully downloaded: acne and other follicular disorder images45.jpg\n",
            "Successfully downloaded: acne and other follicular disorder images46.jpg\n",
            "Successfully downloaded: acne and other follicular disorder images47.jpg\n",
            "Successfully downloaded: acne and other follicular disorder images48.jpg\n",
            "Successfully downloaded: acne and other follicular disorder images49.jpg\n",
            "Successfully downloaded: acne and other follicular disorder images50.jpg\n",
            "Successfully downloaded: acne and other follicular disorder images51.jpg\n",
            "Successfully downloaded: acne and other follicular disorder images52.jpg\n",
            "Successfully downloaded: acne and other follicular disorder images53.jpg\n",
            "Successfully downloaded: acne and other follicular disorder images54.jpg\n",
            "Successfully downloaded: acne and other follicular disorder images55.jpg\n",
            "Successfully downloaded: acne and other follicular disorder images56.jpg\n",
            "Successfully downloaded: acne and other follicular disorder images57.jpg\n",
            "Successfully downloaded: acne and other follicular disorder images58.jpg\n",
            "Successfully downloaded: acne and other follicular disorder images59.jpg\n",
            "Successfully downloaded: acne and other follicular disorder images60.jpg\n",
            "Successfully downloaded: acne and other follicular disorder images61.jpg\n",
            "Successfully downloaded: acne and other follicular disorder images62.jpg\n",
            "Successfully downloaded: acne and other follicular disorder images63.jpg\n",
            "Successfully downloaded: acne and other follicular disorder images64.jpg\n",
            "Successfully downloaded: acne and other follicular disorder images65.jpg\n",
            "Successfully downloaded: acne and other follicular disorder images66.jpg\n",
            "Successfully downloaded: acne and other follicular disorder images67.jpg\n",
            "Successfully downloaded: acne and other follicular disorder images68.jpg\n",
            "Successfully downloaded: acne and other follicular disorder images69.jpg\n",
            "Successfully downloaded: acne and other follicular disorder images70.jpg\n",
            "Successfully downloaded: acne and other follicular disorder images71.jpg\n",
            "Successfully downloaded: acne and other follicular disorder images72.jpg\n",
            "Successfully downloaded: acne and other follicular disorder images73.jpg\n",
            "Successfully downloaded: acne and other follicular disorder images74.jpg\n",
            "Successfully downloaded: acne and other follicular disorder images75.jpg\n",
            "Successfully downloaded: acne and other follicular disorder images76.jpg\n",
            "Successfully downloaded: acne and other follicular disorder images77.jpg\n",
            "Successfully downloaded: acne and other follicular disorder images78.jpg\n",
            "Successfully downloaded: acne and other follicular disorder images79.jpg\n",
            "Successfully downloaded: acne and other follicular disorder images80.jpg\n",
            "Successfully downloaded: acne and other follicular disorder images81.jpg\n",
            "Successfully downloaded: acne and other follicular disorder images82.jpg\n",
            "Successfully downloaded: acne and other follicular disorder images83.jpg\n",
            "Successfully downloaded: acne and other follicular disorder images84.jpg\n",
            "Successfully downloaded: acne and other follicular disorder images85.jpg\n",
            "Successfully downloaded: acne and other follicular disorder images86.jpg\n",
            "Successfully downloaded: acne and other follicular disorder images87.jpg\n",
            "Successfully downloaded: acne and other follicular disorder images88.jpg\n",
            "Successfully downloaded: acne and other follicular disorder images89.jpg\n",
            "Successfully downloaded: acne and other follicular disorder images90.jpg\n",
            "Successfully downloaded: acne and other follicular disorder images91.jpg\n",
            "Successfully downloaded: acne and other follicular disorder images92.jpg\n",
            "Successfully downloaded: acne and other follicular disorder images93.jpg\n",
            "Successfully downloaded: acne and other follicular disorder images94.jpg\n",
            "Successfully downloaded: acne and other follicular disorder images95.jpg\n",
            "Successfully downloaded: acne and other follicular disorder images96.jpg\n",
            "Successfully downloaded: acne and other follicular disorder images97.jpg\n",
            "Successfully downloaded: acne and other follicular disorder images98.jpg\n",
            "Successfully downloaded: acne and other follicular disorder images99.jpg\n",
            "Successfully downloaded: acne and other follicular disorder images100.jpg\n",
            "Successfully downloaded: acne and other follicular disorder images101.jpg\n",
            "Successfully downloaded: acne and other follicular disorder images102.jpg\n",
            "Successfully downloaded: acne and other follicular disorder images103.jpg\n",
            "Successfully downloaded: acne and other follicular disorder images104.jpg\n",
            "Successfully downloaded: acne and other follicular disorder images105.jpg\n",
            "Successfully downloaded: acne and other follicular disorder images106.jpg\n",
            "Successfully downloaded: acne and other follicular disorder images107.jpg\n",
            "Successfully downloaded: acne and other follicular disorder images108.jpg\n",
            "Successfully downloaded: acne and other follicular disorder images109.jpg\n",
            "Successfully downloaded: acne and other follicular disorder images110.jpg\n",
            "Successfully downloaded: acne and other follicular disorder images111.jpg\n",
            "Successfully downloaded: acne and other follicular disorder images112.jpg\n",
            "Successfully downloaded: acne and other follicular disorder images113.jpg\n",
            "Successfully downloaded: acne and other follicular disorder images114.jpg\n",
            "Successfully downloaded: acne and other follicular disorder images115.jpg\n",
            "Successfully downloaded: acne and other follicular disorder images116.jpg\n",
            "Successfully downloaded: acne and other follicular disorder images117.jpg\n",
            "Successfully downloaded: acne and other follicular disorder images118.jpg\n",
            "Successfully downloaded: acne and other follicular disorder images119.jpg\n",
            "Successfully downloaded: acne and other follicular disorder images120.jpg\n",
            "Successfully downloaded: acne and other follicular disorder images121.jpg\n",
            "Successfully downloaded: acne and other follicular disorder images122.jpg\n",
            "Successfully downloaded: acne and other follicular disorder images123.jpg\n",
            "Successfully downloaded: acne and other follicular disorder images124.jpg\n",
            "Successfully downloaded: acne and other follicular disorder images125.jpg\n",
            "Successfully downloaded: acne and other follicular disorder images126.jpg\n",
            "Successfully downloaded: acne and other follicular disorder images127.jpg\n",
            "Successfully downloaded: acne and other follicular disorder images128.jpg\n",
            "Successfully downloaded: acne and other follicular disorder images129.jpg\n",
            "Successfully downloaded: acne and other follicular disorder images130.jpg\n",
            "Successfully downloaded: acne and other follicular disorder images131.jpg\n",
            "Successfully downloaded: acne and other follicular disorder images132.jpg\n",
            "Successfully downloaded: acne and other follicular disorder images133.jpg\n",
            "Successfully downloaded: acne and other follicular disorder images134.jpg\n",
            "Successfully downloaded: acne and other follicular disorder images135.jpg\n",
            "Successfully downloaded: acne and other follicular disorder images136.jpg\n",
            "Successfully downloaded: acne and other follicular disorder images137.jpg\n",
            "Successfully downloaded: acne and other follicular disorder images138.jpg\n",
            "Successfully downloaded: acne and other follicular disorder images139.jpg\n",
            "Successfully downloaded: acne and other follicular disorder images140.jpg\n",
            "Successfully downloaded: acne and other follicular disorder images141.jpg\n",
            "Successfully downloaded: acne and other follicular disorder images142.jpg\n",
            "Successfully downloaded: acne and other follicular disorder images143.jpg\n",
            "Successfully downloaded: acne and other follicular disorder images144.jpg\n",
            "Successfully downloaded: acne and other follicular disorder images145.jpg\n",
            "Successfully downloaded: acne and other follicular disorder images146.jpg\n",
            "Successfully downloaded: acne and other follicular disorder images147.jpg\n",
            "Successfully downloaded: acne and other follicular disorder images148.jpg\n",
            "Successfully downloaded: acne and other follicular disorder images149.jpg\n",
            "Successfully downloaded: acne and other follicular disorder images150.jpg\n",
            "Successfully downloaded: acne and other follicular disorder images151.jpg\n",
            "Successfully downloaded: acne and other follicular disorder images152.jpg\n",
            "Successfully downloaded: acne and other follicular disorder images153.jpg\n",
            "Successfully downloaded: acne and other follicular disorder images154.jpg\n",
            "Successfully downloaded: acne and other follicular disorder images155.jpg\n",
            "Successfully downloaded: acne and other follicular disorder images156.jpg\n",
            "Successfully downloaded: acne and other follicular disorder images157.jpg\n",
            "Successfully downloaded: acne and other follicular disorder images158.jpg\n",
            "Successfully downloaded: acne and other follicular disorder images159.jpg\n",
            "Successfully downloaded: acne and other follicular disorder images160.jpg\n",
            "Successfully downloaded: acne and other follicular disorder images161.jpg\n",
            "Successfully downloaded: acne and other follicular disorder images162.jpg\n",
            "Successfully downloaded: acne and other follicular disorder images163.jpg\n",
            "Successfully downloaded: acne and other follicular disorder images164.jpg\n",
            "Successfully downloaded: acne and other follicular disorder images165.jpg\n",
            "Successfully downloaded: acne and other follicular disorder images166.jpg\n",
            "Successfully downloaded: acne and other follicular disorder images167.jpg\n",
            "Successfully downloaded: acne and other follicular disorder images168.jpg\n",
            "Successfully downloaded: acne and other follicular disorder images169.jpg\n",
            "Successfully downloaded: acne and other follicular disorder images170.jpg\n",
            "Successfully downloaded: acne and other follicular disorder images171.jpg\n",
            "Successfully downloaded: acne and other follicular disorder images172.jpg\n",
            "Successfully downloaded: acne and other follicular disorder images173.jpg\n",
            "Successfully downloaded: acne and other follicular disorder images174.jpg\n",
            "Successfully downloaded: acne and other follicular disorder images175.jpg\n",
            "Successfully downloaded: acne and other follicular disorder images176.jpg\n",
            "Successfully downloaded: acne and other follicular disorder images177.jpg\n",
            "Successfully downloaded: acne and other follicular disorder images178.jpg\n",
            "Successfully downloaded: acne and other follicular disorder images179.jpg\n",
            "Successfully downloaded: acne and other follicular disorder images180.jpg\n",
            "Successfully downloaded: acne and other follicular disorder images181.jpg\n",
            "Successfully downloaded: acne and other follicular disorder images182.jpg\n",
            "Successfully downloaded: acne and other follicular disorder images183.jpg\n",
            "Successfully downloaded: acne and other follicular disorder images184.jpg\n",
            "Successfully downloaded: acne and other follicular disorder images185.jpg\n",
            "Successfully downloaded: acne and other follicular disorder images186.jpg\n",
            "Successfully downloaded: acne and other follicular disorder images187.jpg\n",
            "Successfully downloaded: acne and other follicular disorder images188.jpg\n",
            "Successfully downloaded: acne and other follicular disorder images189.jpg\n",
            "Successfully downloaded: acne and other follicular disorder images190.jpg\n",
            "Successfully downloaded: acne and other follicular disorder images191.jpg\n",
            "Successfully downloaded: acne and other follicular disorder images192.jpg\n",
            "Successfully downloaded: acne and other follicular disorder images193.jpg\n"
          ]
        }
      ],
      "source": [
        "# downloading images\n",
        "def save_image(folder: str, name: str, url: str, index:int):\n",
        "    image_source = rq.get(url)\n",
        "\n",
        "    # file format\n",
        "    suffix = pathlib.Path(url).suffix\n",
        "    if suffix not in ['.jpg', '.jpeg', '.png', '.gif']:\n",
        "        # set to png\n",
        "        output = name + str(index) + '.png'\n",
        "\n",
        "    else:\n",
        "        output = name + str(index) + suffix\n",
        "\n",
        "    if not os.path.exists(folder):\n",
        "        os.makedirs(folder)\n",
        "\n",
        "    with open(f'{folder}{output}', 'wb') as file:\n",
        "        file.write(image_source.content)\n",
        "        print(f'Successfully downloaded: {output}')\n",
        "\n",
        "\n",
        "if __name__ == '__main__':\n",
        "    df = pd.read_csv('dataset/dermnetnz.csv')\n",
        "\n",
        "    for index, row in df.iterrows():\n",
        "        image_url = row['images']\n",
        "        disease_label = row['skin_disorder_name']\n",
        "\n",
        "        # saving image\n",
        "        save_image('Images/', disease_label, image_url, index)"
      ]
    }
  ],
  "metadata": {
    "accelerator": "TPU",
    "colab": {
      "provenance": []
    },
    "gpuClass": "standard",
    "kernelspec": {
      "display_name": "Python 3 (ipykernel)",
      "language": "python",
      "name": "python3"
    },
    "language_info": {
      "codemirror_mode": {
        "name": "ipython",
        "version": 3
      },
      "file_extension": ".py",
      "mimetype": "text/x-python",
      "name": "python",
      "nbconvert_exporter": "python",
      "pygments_lexer": "ipython3",
      "version": "3.9.12"
    },
    "vscode": {
      "interpreter": {
        "hash": "2f155fbeb9494e5ce992090b8427abe3542dae7719d8ea0d05cb0b78608edd18"
      }
    }
  },
  "nbformat": 4,
  "nbformat_minor": 0
}